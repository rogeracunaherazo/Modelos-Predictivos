{
  "nbformat": 4,
  "nbformat_minor": 0,
  "metadata": {
    "colab": {
      "provenance": []
    },
    "kernelspec": {
      "name": "python3",
      "display_name": "Python 3"
    },
    "language_info": {
      "name": "python"
    }
  },
  "cells": [
    {
      "cell_type": "code",
      "execution_count": null,
      "metadata": {
        "id": "xo2jsnrE0bEw"
      },
      "outputs": [],
      "source": [
        "# Cargar libreria\n",
        "import pandas as pd\n",
        "from joblib import load"
      ]
    },
    {
      "cell_type": "code",
      "source": [
        "from google.colab import drive\n",
        "drive.mount('/content/drive')"
      ],
      "metadata": {
        "colab": {
          "base_uri": "https://localhost:8080/"
        },
        "id": "qDjIeSUN1ion",
        "outputId": "085bd1ee-d070-4cb5-dd23-1db3e36e3638"
      },
      "execution_count": null,
      "outputs": [
        {
          "output_type": "stream",
          "name": "stdout",
          "text": [
            "Drive already mounted at /content/drive; to attempt to forcibly remount, call drive.mount(\"/content/drive\", force_remount=True).\n"
          ]
        }
      ]
    },
    {
      "cell_type": "code",
      "source": [
        "# Cargar el modelo\n",
        "model = load('/content/drive/MyDrive/Modelos/modelo_prediccion_judicial.joblib')"
      ],
      "metadata": {
        "id": "6Sxalpn918g9"
      },
      "execution_count": null,
      "outputs": []
    },
    {
      "cell_type": "code",
      "source": [
        "def hacer_prediccion_individual(modelo, año, trimestre, ciudad, subespecialidad,Total_Poblacion,TOTAL_INDICIADOS,TOTAL_NOTICIAS_CRIMINALES,RGN,COVID,LEY_1878_2018,VICTIMAS_UNIDAD_VICTIMAS,TOTAL_VICTIMAS_FISCALIA):\n",
        "    \"\"\"\n",
        "    Función para hacer predicciones individuales de ingreso de procesos juiciales\n",
        "\n",
        "    Parámetros:\n",
        "    -----------\n",
        "    modelo: Modelo de ML ya entrenado\n",
        "\n",
        "\n",
        "    Retorna:\n",
        "    --------\n",
        "    Predicción de ingreso de procesos judiciales\n",
        "    \"\"\"\n",
        "    # Crear un DataFrame con los valores de entrada\n",
        "    datos_entrada = pd.DataFrame({\n",
        "        'año': [año],\n",
        "        'trimestre': [trimestre],\n",
        "        'ciudad': [ciudad],\n",
        "        'subespecialidad': [subespecialidad],\n",
        "        'Total_Poblacion': [Total_Poblacion],\n",
        "        'TOTAL_INDICIADOS': [TOTAL_INDICIADOS],\n",
        "        'TOTAL_NOTICIAS_CRIMINALES': [TOTAL_NOTICIAS_CRIMINALES],\n",
        "        'RGN': [RGN],\n",
        "        'COVID': [COVID],\n",
        "        'LEY_1878_2018': [LEY_1878_2018],\n",
        "        'VICTIMAS_UNIDAD_VICTIMAS': [VICTIMAS_UNIDAD_VICTIMAS],\n",
        "        'TOTAL_VICTIMAS_FISCALIA': [TOTAL_VICTIMAS_FISCALIA],\n",
        "\n",
        "\n",
        "    })\n",
        "\n",
        "    # Hacer la predicción\n",
        "    prediccion = modelo.predict(datos_entrada)\n",
        "\n",
        "    return round(prediccion[0], 2)  # Devolver el valor redondeado a 2 decimales"
      ],
      "metadata": {
        "id": "GdzGYAyl2xnT"
      },
      "execution_count": null,
      "outputs": []
    },
    {
      "cell_type": "code",
      "source": [
        "# Hacer una predicción utilizando el modelo XGBoost , lo llamamos Pipeline\n",
        "proc_judiciales = hacer_prediccion_individual(\n",
        "    modelo=model,\n",
        "    año=2012,\n",
        "    trimestre=1,\n",
        "    ciudad=\"Cali\",\n",
        "    subespecialidad=\"EJECUCION DE PENAS Y MEDIDAS DE SEGURIDAD\",\n",
        "    Total_Poblacion=90234.375,\n",
        "    TOTAL_INDICIADOS=4283.166667,\n",
        "    TOTAL_NOTICIAS_CRIMINALES=3211.15,\n",
        "    RGN=12.35362692,\n",
        "    COVID=0,\n",
        "    LEY_1878_2018=0,\n",
        "    VICTIMAS_UNIDAD_VICTIMAS=98.70833333,\n",
        "    TOTAL_VICTIMAS_FISCALIA=767.8333333\n",
        "  )\n",
        "\n",
        "if proc_judiciales is not None:\n",
        "    print(f\"Procesos Judiciales Predichos: {round(proc_judiciales)}\")\n",
        "    Real = 2338\n",
        "    Diferencia = proc_judiciales - Real\n",
        "    print(f\"Procesos Judiciales Reales   : {Real}\")\n",
        "    print(f\"Diferencia de Procesos Judiciales: {round(Diferencia)}\")"
      ],
      "metadata": {
        "colab": {
          "base_uri": "https://localhost:8080/"
        },
        "id": "u5AhOTDr25GB",
        "outputId": "2c875e2d-b62a-4140-8c4d-29a3c9ea3eec"
      },
      "execution_count": null,
      "outputs": [
        {
          "output_type": "stream",
          "name": "stdout",
          "text": [
            "Procesos Judiciales Predichos: 2318\n",
            "Procesos Judiciales Reales   : 2338\n",
            "Diferencia de Procesos Judiciales: -20\n"
          ]
        }
      ]
    }
  ]
}